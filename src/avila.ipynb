{
 "nbformat": 4,
 "nbformat_minor": 2,
 "metadata": {
  "language_info": {
   "name": "python",
   "codemirror_mode": {
    "name": "ipython",
    "version": 3
   },
   "version": "3.6.9"
  },
  "orig_nbformat": 2,
  "file_extension": ".py",
  "mimetype": "text/x-python",
  "name": "python",
  "npconvert_exporter": "python",
  "pygments_lexer": "ipython3",
  "version": 3
 },
 "cells": [
  {
   "cell_type": "code",
   "execution_count": 39,
   "metadata": {},
   "outputs": [],
   "source": [
    "import pandas as pd"
   ]
  },
  {
   "cell_type": "code",
   "execution_count": 40,
   "metadata": {},
   "outputs": [],
   "source": [
    "df = pd.read_csv(\"./input/training_dataset.csv\")"
   ]
  },
  {
   "cell_type": "code",
   "execution_count": 41,
   "metadata": {},
   "outputs": [
    {
     "data": {
      "text/html": "<div>\n<style scoped>\n    .dataframe tbody tr th:only-of-type {\n        vertical-align: middle;\n    }\n\n    .dataframe tbody tr th {\n        vertical-align: top;\n    }\n\n    .dataframe thead th {\n        text-align: right;\n    }\n</style>\n<table border=\"1\" class=\"dataframe\">\n  <thead>\n    <tr style=\"text-align: right;\">\n      <th></th>\n      <th>id</th>\n      <th>F1</th>\n      <th>F2</th>\n      <th>F3</th>\n      <th>F4</th>\n      <th>F5</th>\n      <th>F6</th>\n      <th>F7</th>\n      <th>F8</th>\n      <th>F9</th>\n      <th>F10</th>\n      <th>scribe</th>\n    </tr>\n  </thead>\n  <tbody>\n    <tr>\n      <th>0</th>\n      <td>0</td>\n      <td>-0.091897</td>\n      <td>0.297600</td>\n      <td>0.079145</td>\n      <td>0.196496</td>\n      <td>0.261718</td>\n      <td>1.269960</td>\n      <td>0.446679</td>\n      <td>-0.751707</td>\n      <td>0.001721</td>\n      <td>0.998901</td>\n      <td>Philippus</td>\n    </tr>\n    <tr>\n      <th>1</th>\n      <td>1</td>\n      <td>-0.091897</td>\n      <td>0.226939</td>\n      <td>0.267634</td>\n      <td>0.024091</td>\n      <td>0.261718</td>\n      <td>-0.806282</td>\n      <td>0.597681</td>\n      <td>-0.601277</td>\n      <td>0.126447</td>\n      <td>-0.909619</td>\n      <td>Paithonius</td>\n    </tr>\n    <tr>\n      <th>2</th>\n      <td>2</td>\n      <td>0.167323</td>\n      <td>0.313302</td>\n      <td>0.168055</td>\n      <td>-0.383198</td>\n      <td>0.261718</td>\n      <td>0.190314</td>\n      <td>0.824183</td>\n      <td>0.558250</td>\n      <td>-0.247731</td>\n      <td>-0.148073</td>\n      <td>Marcus</td>\n    </tr>\n    <tr>\n      <th>3</th>\n      <td>3</td>\n      <td>-0.017834</td>\n      <td>-0.228430</td>\n      <td>0.370770</td>\n      <td>1.293671</td>\n      <td>0.172340</td>\n      <td>0.896237</td>\n      <td>0.182426</td>\n      <td>0.416867</td>\n      <td>1.373706</td>\n      <td>0.868284</td>\n      <td>Noaelius</td>\n    </tr>\n    <tr>\n      <th>4</th>\n      <td>4</td>\n      <td>0.043885</td>\n      <td>0.407516</td>\n      <td>-0.120014</td>\n      <td>0.281743</td>\n      <td>0.261718</td>\n      <td>-0.183409</td>\n      <td>0.106925</td>\n      <td>0.142896</td>\n      <td>0.531806</td>\n      <td>-0.101311</td>\n      <td>Marcus</td>\n    </tr>\n  </tbody>\n</table>\n</div>",
      "text/plain": "   id        F1        F2        F3        F4        F5        F6        F7  \\\n0   0 -0.091897  0.297600  0.079145  0.196496  0.261718  1.269960  0.446679   \n1   1 -0.091897  0.226939  0.267634  0.024091  0.261718 -0.806282  0.597681   \n2   2  0.167323  0.313302  0.168055 -0.383198  0.261718  0.190314  0.824183   \n3   3 -0.017834 -0.228430  0.370770  1.293671  0.172340  0.896237  0.182426   \n4   4  0.043885  0.407516 -0.120014  0.281743  0.261718 -0.183409  0.106925   \n\n         F8        F9       F10      scribe  \n0 -0.751707  0.001721  0.998901   Philippus  \n1 -0.601277  0.126447 -0.909619  Paithonius  \n2  0.558250 -0.247731 -0.148073      Marcus  \n3  0.416867  1.373706  0.868284    Noaelius  \n4  0.142896  0.531806 -0.101311      Marcus  "
     },
     "execution_count": 41,
     "metadata": {},
     "output_type": "execute_result"
    }
   ],
   "source": [
    "df.head()"
   ]
  },
  {
   "cell_type": "code",
   "execution_count": 42,
   "metadata": {},
   "outputs": [
    {
     "data": {
      "text/plain": "Marcus                5099\nPhilippus             2366\nFranciscus            1325\nBegonius              1019\nPaithonius             632\nNoaelius               602\nUbuntius               544\nFerrumEffractarius     430\nName: scribe, dtype: int64"
     },
     "execution_count": 42,
     "metadata": {},
     "output_type": "execute_result"
    }
   ],
   "source": [
    "df['scribe'].value_counts()"
   ]
  },
  {
   "cell_type": "code",
   "execution_count": 43,
   "metadata": {},
   "outputs": [
    {
     "data": {
      "text/plain": "id          int64\nF1        float64\nF2        float64\nF3        float64\nF4        float64\nF5        float64\nF6        float64\nF7        float64\nF8        float64\nF9        float64\nF10       float64\nscribe     object\ndtype: object"
     },
     "execution_count": 43,
     "metadata": {},
     "output_type": "execute_result"
    }
   ],
   "source": [
    "df.dtypes"
   ]
  },
  {
   "cell_type": "code",
   "execution_count": null,
   "metadata": {},
   "outputs": [],
   "source": []
  },
  {
   "cell_type": "code",
   "execution_count": 46,
   "metadata": {},
   "outputs": [
    {
     "data": {
      "text/html": "<div>\n<style scoped>\n    .dataframe tbody tr th:only-of-type {\n        vertical-align: middle;\n    }\n\n    .dataframe tbody tr th {\n        vertical-align: top;\n    }\n\n    .dataframe thead th {\n        text-align: right;\n    }\n</style>\n<table border=\"1\" class=\"dataframe\">\n  <thead>\n    <tr style=\"text-align: right;\">\n      <th></th>\n      <th>Begonius</th>\n      <th>FerrumEffractarius</th>\n      <th>Franciscus</th>\n      <th>Marcus</th>\n      <th>Noaelius</th>\n      <th>Paithonius</th>\n      <th>Philippus</th>\n      <th>Ubuntius</th>\n    </tr>\n  </thead>\n  <tbody>\n    <tr>\n      <th>0</th>\n      <td>0</td>\n      <td>0</td>\n      <td>0</td>\n      <td>0</td>\n      <td>0</td>\n      <td>0</td>\n      <td>1</td>\n      <td>0</td>\n    </tr>\n    <tr>\n      <th>1</th>\n      <td>0</td>\n      <td>0</td>\n      <td>0</td>\n      <td>0</td>\n      <td>0</td>\n      <td>1</td>\n      <td>0</td>\n      <td>0</td>\n    </tr>\n    <tr>\n      <th>2</th>\n      <td>0</td>\n      <td>0</td>\n      <td>0</td>\n      <td>1</td>\n      <td>0</td>\n      <td>0</td>\n      <td>0</td>\n      <td>0</td>\n    </tr>\n    <tr>\n      <th>3</th>\n      <td>0</td>\n      <td>0</td>\n      <td>0</td>\n      <td>0</td>\n      <td>1</td>\n      <td>0</td>\n      <td>0</td>\n      <td>0</td>\n    </tr>\n    <tr>\n      <th>4</th>\n      <td>0</td>\n      <td>0</td>\n      <td>0</td>\n      <td>1</td>\n      <td>0</td>\n      <td>0</td>\n      <td>0</td>\n      <td>0</td>\n    </tr>\n    <tr>\n      <th>...</th>\n      <td>...</td>\n      <td>...</td>\n      <td>...</td>\n      <td>...</td>\n      <td>...</td>\n      <td>...</td>\n      <td>...</td>\n      <td>...</td>\n    </tr>\n    <tr>\n      <th>12012</th>\n      <td>0</td>\n      <td>0</td>\n      <td>1</td>\n      <td>0</td>\n      <td>0</td>\n      <td>0</td>\n      <td>0</td>\n      <td>0</td>\n    </tr>\n    <tr>\n      <th>12013</th>\n      <td>0</td>\n      <td>0</td>\n      <td>0</td>\n      <td>1</td>\n      <td>0</td>\n      <td>0</td>\n      <td>0</td>\n      <td>0</td>\n    </tr>\n    <tr>\n      <th>12014</th>\n      <td>1</td>\n      <td>0</td>\n      <td>0</td>\n      <td>0</td>\n      <td>0</td>\n      <td>0</td>\n      <td>0</td>\n      <td>0</td>\n    </tr>\n    <tr>\n      <th>12015</th>\n      <td>0</td>\n      <td>0</td>\n      <td>0</td>\n      <td>1</td>\n      <td>0</td>\n      <td>0</td>\n      <td>0</td>\n      <td>0</td>\n    </tr>\n    <tr>\n      <th>12016</th>\n      <td>0</td>\n      <td>0</td>\n      <td>0</td>\n      <td>1</td>\n      <td>0</td>\n      <td>0</td>\n      <td>0</td>\n      <td>0</td>\n    </tr>\n  </tbody>\n</table>\n<p>12017 rows × 8 columns</p>\n</div>",
      "text/plain": "       Begonius  FerrumEffractarius  Franciscus  Marcus  Noaelius  Paithonius  \\\n0             0                   0           0       0         0           0   \n1             0                   0           0       0         0           1   \n2             0                   0           0       1         0           0   \n3             0                   0           0       0         1           0   \n4             0                   0           0       1         0           0   \n...         ...                 ...         ...     ...       ...         ...   \n12012         0                   0           1       0         0           0   \n12013         0                   0           0       1         0           0   \n12014         1                   0           0       0         0           0   \n12015         0                   0           0       1         0           0   \n12016         0                   0           0       1         0           0   \n\n       Philippus  Ubuntius  \n0              1         0  \n1              0         0  \n2              0         0  \n3              0         0  \n4              0         0  \n...          ...       ...  \n12012          0         0  \n12013          0         0  \n12014          0         0  \n12015          0         0  \n12016          0         0  \n\n[12017 rows x 8 columns]"
     },
     "execution_count": 46,
     "metadata": {},
     "output_type": "execute_result"
    }
   ],
   "source": [
    "pd.get_dummies(df['scribe'])"
   ]
  },
  {
   "cell_type": "code",
   "execution_count": 38,
   "metadata": {},
   "outputs": [
    {
     "data": {
      "text/plain": "0    10998\n1     1019\nName: scribe, dtype: int64"
     },
     "execution_count": 38,
     "metadata": {},
     "output_type": "execute_result"
    }
   ],
   "source": [
    "df['scribe'].value_counts()"
   ]
  },
  {
   "cell_type": "code",
   "execution_count": 33,
   "metadata": {},
   "outputs": [
    {
     "ename": "SyntaxError",
     "evalue": "invalid syntax (<ipython-input-33-38112987bce4>, line 2)",
     "output_type": "error",
     "traceback": [
      "\u001b[0;36m  File \u001b[0;32m\"<ipython-input-33-38112987bce4>\"\u001b[0;36m, line \u001b[0;32m2\u001b[0m\n\u001b[0;31m    y = df[]\u001b[0m\n\u001b[0m           ^\u001b[0m\n\u001b[0;31mSyntaxError\u001b[0m\u001b[0;31m:\u001b[0m invalid syntax\n"
     ]
    }
   ],
   "source": [
    "X = df[['F1','F2','F3','F4','F5','F6','F7','F8','F9','F10']]\n",
    "y = df[]"
   ]
  },
  {
   "cell_type": "code",
   "execution_count": null,
   "metadata": {},
   "outputs": [],
   "source": []
  },
  {
   "cell_type": "code",
   "execution_count": null,
   "metadata": {},
   "outputs": [],
   "source": []
  }
 ]
}