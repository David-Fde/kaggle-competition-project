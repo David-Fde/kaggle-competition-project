{
 "nbformat": 4,
 "nbformat_minor": 2,
 "metadata": {
  "language_info": {
   "name": "python",
   "codemirror_mode": {
    "name": "ipython",
    "version": 3
   },
   "version": "3.6.9"
  },
  "orig_nbformat": 2,
  "file_extension": ".py",
  "mimetype": "text/x-python",
  "name": "python",
  "npconvert_exporter": "python",
  "pygments_lexer": "ipython3",
  "version": 3
 },
 "cells": [
  {
   "cell_type": "code",
   "execution_count": 68,
   "metadata": {},
   "outputs": [
    {
     "name": "stdout",
     "output_type": "stream",
     "text": "[WARNING] in <ipython-input-68-02ff3806b010> line 1:\n    >>> h2o.shutdown(prompt=False)\n        ^^^^ Deprecated, use ``h2o.cluster().shutdown()``.\nException ignored in:<bound method ExprNode.__del__ of <Expr(h2o.runif <Expr(as.numeric <Expr()#data.hex>)#py_21_sid_b4c3; scalar> -1)#py_24_sid_b4c3; scalar>>\nTraceback (most recent call last):\n  File \"/home/dfernandez/.local/lib/python3.6/site-packages/h2o/expr.py\", line 187, in __del__\nExprNode.rapids(\"(rm {})\".format(self._cache._id))\n  File \"/home/dfernandez/.local/lib/python3.6/site-packages/h2o/expr.py\", line 241, in rapids\nreturn h2o.api(\"POST /99/Rapids\", data={\"ast\": expr, \"session_id\": h2o.connection().session_id})\n  File \"/home/dfernandez/.local/lib/python3.6/site-packages/h2o/h2o.py\", line 104, in api\nreturn h2oconn.request(endpoint, data=data, json=json, filename=filename, save_to=save_to)\n  File \"/home/dfernandez/.local/lib/python3.6/site-packages/h2o/backend/connection.py\", line 434, in request\nreturn self._process_response(resp, save_to)\n  File \"/home/dfernandez/.local/lib/python3.6/site-packages/h2o/backend/connection.py\", line 781, in _process_response\nraise H2OServerError(\"HTTP %d %s:\\n%r\" % (status_code, response.reason, data))\nh2o.exceptions.H2OServerError:HTTP 500 Server Error:\nServer error java.lang.IllegalStateException:\n  Error: REFCNTs contains an extra vec $04ff13000000ffffffff$nfs://home/dfernandez/Desktop/Ironhack/kaggle-competition-project/kaggle-competition-project/Input/data.csv, count = 1\n  Request: None\n\n"
    }
   ],
   "source": [
    "h2o.shutdown(prompt=False)"
   ]
  },
  {
   "cell_type": "code",
   "execution_count": 69,
   "metadata": {},
   "outputs": [],
   "source": [
    "import h2o\n",
    "import numpy as np\n",
    "import pandas as pd"
   ]
  },
  {
   "cell_type": "code",
   "execution_count": 70,
   "metadata": {},
   "outputs": [
    {
     "name": "stdout",
     "output_type": "stream",
     "text": "Checking whether there is an H2O instance running at http://localhost:54321..... not found.\nAttempting to start a local H2O server...\n  Java Version: openjdk version \"11.0.4\" 2019-07-16; OpenJDK Runtime Environment (build 11.0.4+11-post-Ubuntu-1ubuntu218.04.3); OpenJDK 64-Bit Server VM (build 11.0.4+11-post-Ubuntu-1ubuntu218.04.3, mixed mode, sharing)\n  Starting server from /home/dfernandez/.local/lib/python3.6/site-packages/h2o/backend/bin/h2o.jar\n  Ice root: /tmp/tmpoe061toy\n  JVM stdout: /tmp/tmpoe061toy/h2o_dfernandez_started_from_python.out\n  JVM stderr: /tmp/tmpoe061toy/h2o_dfernandez_started_from_python.err\n  Server is running at http://127.0.0.1:54321\nConnecting to H2O server at http://127.0.0.1:54321 ... successful.\n"
    },
    {
     "data": {
      "text/html": "<div style=\"overflow:auto\"><table style=\"width:50%\"><tr><td>H2O cluster uptime:</td>\n<td>04 secs</td></tr>\n<tr><td>H2O cluster timezone:</td>\n<td>Europe/Madrid</td></tr>\n<tr><td>H2O data parsing timezone:</td>\n<td>UTC</td></tr>\n<tr><td>H2O cluster version:</td>\n<td>3.26.0.11</td></tr>\n<tr><td>H2O cluster version age:</td>\n<td>3 days </td></tr>\n<tr><td>H2O cluster name:</td>\n<td>H2O_from_python_dfernandez_3s3zuc</td></tr>\n<tr><td>H2O cluster total nodes:</td>\n<td>1</td></tr>\n<tr><td>H2O cluster free memory:</td>\n<td>4 Gb</td></tr>\n<tr><td>H2O cluster total cores:</td>\n<td>4</td></tr>\n<tr><td>H2O cluster allowed cores:</td>\n<td>4</td></tr>\n<tr><td>H2O cluster status:</td>\n<td>accepting new members, healthy</td></tr>\n<tr><td>H2O connection url:</td>\n<td>http://127.0.0.1:54321</td></tr>\n<tr><td>H2O connection proxy:</td>\n<td>{'http': None, 'https': None}</td></tr>\n<tr><td>H2O internal security:</td>\n<td>False</td></tr>\n<tr><td>H2O API Extensions:</td>\n<td>Amazon S3, XGBoost, Algos, AutoML, Core V3, TargetEncoder, Core V4</td></tr>\n<tr><td>Python version:</td>\n<td>3.6.9 final</td></tr></table></div>",
      "text/plain": "--------------------------  ------------------------------------------------------------------\nH2O cluster uptime:         04 secs\nH2O cluster timezone:       Europe/Madrid\nH2O data parsing timezone:  UTC\nH2O cluster version:        3.26.0.11\nH2O cluster version age:    3 days\nH2O cluster name:           H2O_from_python_dfernandez_3s3zuc\nH2O cluster total nodes:    1\nH2O cluster free memory:    4 Gb\nH2O cluster total cores:    4\nH2O cluster allowed cores:  4\nH2O cluster status:         accepting new members, healthy\nH2O connection url:         http://127.0.0.1:54321\nH2O connection proxy:       {'http': None, 'https': None}\nH2O internal security:      False\nH2O API Extensions:         Amazon S3, XGBoost, Algos, AutoML, Core V3, TargetEncoder, Core V4\nPython version:             3.6.9 final\n--------------------------  ------------------------------------------------------------------"
     },
     "metadata": {},
     "output_type": "display_data"
    }
   ],
   "source": [
    "h2o.init(nthreads = -1, max_mem_size = 4)"
   ]
  },
  {
   "cell_type": "code",
   "execution_count": 71,
   "metadata": {},
   "outputs": [
    {
     "name": "stdout",
     "output_type": "stream",
     "text": "Parse progress: |█████████████████████████████████████████████████████████| 100%\n"
    }
   ],
   "source": [
    "df = h2o.import_file('Input/data.csv')"
   ]
  },
  {
   "cell_type": "code",
   "execution_count": 72,
   "metadata": {},
   "outputs": [
    {
     "data": {
      "text/html": "<table>\n<thead>\n<tr><th style=\"text-align: right;\">  carat</th><th>cut      </th><th>color  </th><th>clarity  </th><th style=\"text-align: right;\">  depth</th><th style=\"text-align: right;\">  table</th><th style=\"text-align: right;\">   x</th><th style=\"text-align: right;\">   y</th><th style=\"text-align: right;\">   z</th><th style=\"text-align: right;\">  price</th></tr>\n</thead>\n<tbody>\n<tr><td style=\"text-align: right;\">   2.26</td><td>Ideal    </td><td>G      </td><td>SI2      </td><td style=\"text-align: right;\">   61.9</td><td style=\"text-align: right;\">     57</td><td style=\"text-align: right;\">8.44</td><td style=\"text-align: right;\">8.36</td><td style=\"text-align: right;\">5.2 </td><td style=\"text-align: right;\">  12831</td></tr>\n<tr><td style=\"text-align: right;\">   2.43</td><td>Very Good</td><td>H      </td><td>SI2      </td><td style=\"text-align: right;\">   63.2</td><td style=\"text-align: right;\">     57</td><td style=\"text-align: right;\">8.56</td><td style=\"text-align: right;\">8.5 </td><td style=\"text-align: right;\">5.39</td><td style=\"text-align: right;\">  16170</td></tr>\n<tr><td style=\"text-align: right;\">   0.8 </td><td>Premium  </td><td>F      </td><td>SI2      </td><td style=\"text-align: right;\">   61  </td><td style=\"text-align: right;\">     57</td><td style=\"text-align: right;\">6.03</td><td style=\"text-align: right;\">6.01</td><td style=\"text-align: right;\">3.67</td><td style=\"text-align: right;\">   2797</td></tr>\n<tr><td style=\"text-align: right;\">   0.4 </td><td>Ideal    </td><td>F      </td><td>I1       </td><td style=\"text-align: right;\">   63.3</td><td style=\"text-align: right;\">     60</td><td style=\"text-align: right;\">4.68</td><td style=\"text-align: right;\">4.64</td><td style=\"text-align: right;\">2.95</td><td style=\"text-align: right;\">    630</td></tr>\n<tr><td style=\"text-align: right;\">   0.31</td><td>Ideal    </td><td>G      </td><td>VS2      </td><td style=\"text-align: right;\">   61.6</td><td style=\"text-align: right;\">     55</td><td style=\"text-align: right;\">4.39</td><td style=\"text-align: right;\">4.37</td><td style=\"text-align: right;\">2.7 </td><td style=\"text-align: right;\">    698</td></tr>\n<tr><td style=\"text-align: right;\">   0.53</td><td>Very Good</td><td>F      </td><td>SI2      </td><td style=\"text-align: right;\">   60.5</td><td style=\"text-align: right;\">     60</td><td style=\"text-align: right;\">5.19</td><td style=\"text-align: right;\">5.23</td><td style=\"text-align: right;\">3.15</td><td style=\"text-align: right;\">   1132</td></tr>\n<tr><td style=\"text-align: right;\">   0.7 </td><td>Premium  </td><td>D      </td><td>SI2      </td><td style=\"text-align: right;\">   60.8</td><td style=\"text-align: right;\">     61</td><td style=\"text-align: right;\">5.69</td><td style=\"text-align: right;\">5.64</td><td style=\"text-align: right;\">3.45</td><td style=\"text-align: right;\">   1987</td></tr>\n<tr><td style=\"text-align: right;\">   1.13</td><td>Good     </td><td>F      </td><td>SI2      </td><td style=\"text-align: right;\">   64  </td><td style=\"text-align: right;\">     58</td><td style=\"text-align: right;\">6.52</td><td style=\"text-align: right;\">6.58</td><td style=\"text-align: right;\">4.19</td><td style=\"text-align: right;\">   3952</td></tr>\n<tr><td style=\"text-align: right;\">   0.35</td><td>Ideal    </td><td>E      </td><td>SI1      </td><td style=\"text-align: right;\">   60.9</td><td style=\"text-align: right;\">     55</td><td style=\"text-align: right;\">4.53</td><td style=\"text-align: right;\">4.57</td><td style=\"text-align: right;\">2.77</td><td style=\"text-align: right;\">    614</td></tr>\n<tr><td style=\"text-align: right;\">   1.01</td><td>Fair     </td><td>H      </td><td>VS1      </td><td style=\"text-align: right;\">   61.4</td><td style=\"text-align: right;\">     66</td><td style=\"text-align: right;\">6.34</td><td style=\"text-align: right;\">6.24</td><td style=\"text-align: right;\">3.87</td><td style=\"text-align: right;\">   5062</td></tr>\n</tbody>\n</table>"
     },
     "metadata": {},
     "output_type": "display_data"
    },
    {
     "data": {
      "text/plain": ""
     },
     "execution_count": 72,
     "metadata": {},
     "output_type": "execute_result"
    }
   ],
   "source": [
    "df.head()"
   ]
  },
  {
   "cell_type": "code",
   "execution_count": 73,
   "metadata": {},
   "outputs": [
    {
     "data": {
      "text/plain": "{'carat': 'real',\n 'cut': 'enum',\n 'color': 'enum',\n 'clarity': 'enum',\n 'depth': 'real',\n 'table': 'real',\n 'x': 'real',\n 'y': 'real',\n 'z': 'real',\n 'price': 'int'}"
     },
     "execution_count": 73,
     "metadata": {},
     "output_type": "execute_result"
    }
   ],
   "source": [
    "df.types"
   ]
  },
  {
   "cell_type": "code",
   "execution_count": 74,
   "metadata": {},
   "outputs": [],
   "source": [
    "df = df.asnumeric()"
   ]
  },
  {
   "cell_type": "code",
   "execution_count": 75,
   "metadata": {},
   "outputs": [
    {
     "data": {
      "text/plain": "{'carat': 'real',\n 'cut': 'real',\n 'color': 'real',\n 'clarity': 'real',\n 'depth': 'real',\n 'table': 'real',\n 'x': 'real',\n 'y': 'real',\n 'z': 'real',\n 'price': 'real'}"
     },
     "execution_count": 75,
     "metadata": {},
     "output_type": "execute_result"
    }
   ],
   "source": [
    "df.types"
   ]
  },
  {
   "cell_type": "code",
   "execution_count": 76,
   "metadata": {},
   "outputs": [
    {
     "data": {
      "text/html": "<table>\n<thead>\n<tr><th style=\"text-align: right;\">  carat</th><th style=\"text-align: right;\">  cut</th><th style=\"text-align: right;\">  color</th><th style=\"text-align: right;\">  clarity</th><th style=\"text-align: right;\">  depth</th><th style=\"text-align: right;\">  table</th><th style=\"text-align: right;\">   x</th><th style=\"text-align: right;\">   y</th><th style=\"text-align: right;\">   z</th><th style=\"text-align: right;\">  price</th></tr>\n</thead>\n<tbody>\n<tr><td style=\"text-align: right;\">   2.26</td><td style=\"text-align: right;\">    2</td><td style=\"text-align: right;\">      3</td><td style=\"text-align: right;\">        3</td><td style=\"text-align: right;\">   61.9</td><td style=\"text-align: right;\">     57</td><td style=\"text-align: right;\">8.44</td><td style=\"text-align: right;\">8.36</td><td style=\"text-align: right;\">5.2 </td><td style=\"text-align: right;\">  12831</td></tr>\n<tr><td style=\"text-align: right;\">   2.43</td><td style=\"text-align: right;\">    4</td><td style=\"text-align: right;\">      4</td><td style=\"text-align: right;\">        3</td><td style=\"text-align: right;\">   63.2</td><td style=\"text-align: right;\">     57</td><td style=\"text-align: right;\">8.56</td><td style=\"text-align: right;\">8.5 </td><td style=\"text-align: right;\">5.39</td><td style=\"text-align: right;\">  16170</td></tr>\n<tr><td style=\"text-align: right;\">   0.8 </td><td style=\"text-align: right;\">    3</td><td style=\"text-align: right;\">      2</td><td style=\"text-align: right;\">        3</td><td style=\"text-align: right;\">   61  </td><td style=\"text-align: right;\">     57</td><td style=\"text-align: right;\">6.03</td><td style=\"text-align: right;\">6.01</td><td style=\"text-align: right;\">3.67</td><td style=\"text-align: right;\">   2797</td></tr>\n<tr><td style=\"text-align: right;\">   0.4 </td><td style=\"text-align: right;\">    2</td><td style=\"text-align: right;\">      2</td><td style=\"text-align: right;\">        0</td><td style=\"text-align: right;\">   63.3</td><td style=\"text-align: right;\">     60</td><td style=\"text-align: right;\">4.68</td><td style=\"text-align: right;\">4.64</td><td style=\"text-align: right;\">2.95</td><td style=\"text-align: right;\">    630</td></tr>\n<tr><td style=\"text-align: right;\">   0.31</td><td style=\"text-align: right;\">    2</td><td style=\"text-align: right;\">      3</td><td style=\"text-align: right;\">        5</td><td style=\"text-align: right;\">   61.6</td><td style=\"text-align: right;\">     55</td><td style=\"text-align: right;\">4.39</td><td style=\"text-align: right;\">4.37</td><td style=\"text-align: right;\">2.7 </td><td style=\"text-align: right;\">    698</td></tr>\n<tr><td style=\"text-align: right;\">   0.53</td><td style=\"text-align: right;\">    4</td><td style=\"text-align: right;\">      2</td><td style=\"text-align: right;\">        3</td><td style=\"text-align: right;\">   60.5</td><td style=\"text-align: right;\">     60</td><td style=\"text-align: right;\">5.19</td><td style=\"text-align: right;\">5.23</td><td style=\"text-align: right;\">3.15</td><td style=\"text-align: right;\">   1132</td></tr>\n<tr><td style=\"text-align: right;\">   0.7 </td><td style=\"text-align: right;\">    3</td><td style=\"text-align: right;\">      0</td><td style=\"text-align: right;\">        3</td><td style=\"text-align: right;\">   60.8</td><td style=\"text-align: right;\">     61</td><td style=\"text-align: right;\">5.69</td><td style=\"text-align: right;\">5.64</td><td style=\"text-align: right;\">3.45</td><td style=\"text-align: right;\">   1987</td></tr>\n<tr><td style=\"text-align: right;\">   1.13</td><td style=\"text-align: right;\">    1</td><td style=\"text-align: right;\">      2</td><td style=\"text-align: right;\">        3</td><td style=\"text-align: right;\">   64  </td><td style=\"text-align: right;\">     58</td><td style=\"text-align: right;\">6.52</td><td style=\"text-align: right;\">6.58</td><td style=\"text-align: right;\">4.19</td><td style=\"text-align: right;\">   3952</td></tr>\n<tr><td style=\"text-align: right;\">   0.35</td><td style=\"text-align: right;\">    2</td><td style=\"text-align: right;\">      1</td><td style=\"text-align: right;\">        2</td><td style=\"text-align: right;\">   60.9</td><td style=\"text-align: right;\">     55</td><td style=\"text-align: right;\">4.53</td><td style=\"text-align: right;\">4.57</td><td style=\"text-align: right;\">2.77</td><td style=\"text-align: right;\">    614</td></tr>\n<tr><td style=\"text-align: right;\">   1.01</td><td style=\"text-align: right;\">    0</td><td style=\"text-align: right;\">      4</td><td style=\"text-align: right;\">        4</td><td style=\"text-align: right;\">   61.4</td><td style=\"text-align: right;\">     66</td><td style=\"text-align: right;\">6.34</td><td style=\"text-align: right;\">6.24</td><td style=\"text-align: right;\">3.87</td><td style=\"text-align: right;\">   5062</td></tr>\n</tbody>\n</table>"
     },
     "metadata": {},
     "output_type": "display_data"
    },
    {
     "data": {
      "text/plain": ""
     },
     "execution_count": 76,
     "metadata": {},
     "output_type": "execute_result"
    }
   ],
   "source": [
    "df.head()"
   ]
  },
  {
   "cell_type": "code",
   "execution_count": 77,
   "metadata": {},
   "outputs": [],
   "source": [
    "y_columns = \"price\"\n",
    "x_columns = [\"carat\",\"cut\",\"color\", \"clarity\",\"depth\",\"table\",\"x\",\"y\",\"z\"]"
   ]
  },
  {
   "cell_type": "code",
   "execution_count": 78,
   "metadata": {},
   "outputs": [],
   "source": [
    "train, test=df.split_frame(ratios = [.8])\n",
    "X_train=train[x_columns]\n",
    "y_train=train[y_columns]\n",
    "X_test=test[x_columns]\n",
    "y_test=test[y_columns]"
   ]
  },
  {
   "cell_type": "code",
   "execution_count": 79,
   "metadata": {},
   "outputs": [],
   "source": [
    "from h2o.estimators.random_forest import H2ORandomForestEstimator as rf"
   ]
  },
  {
   "cell_type": "code",
   "execution_count": 80,
   "metadata": {},
   "outputs": [
    {
     "name": "stdout",
     "output_type": "stream",
     "text": "drf Model Build progress: |███████████████████████████████████████████████| 100%\n"
    }
   ],
   "source": [
    "rf_fit1 = rf(model_id='rf_fit1', seed=1)\n",
    "rf_fit1.train(x=x_columns, y=y_columns, training_frame=train)"
   ]
  },
  {
   "cell_type": "code",
   "execution_count": 81,
   "metadata": {},
   "outputs": [
    {
     "name": "stdout",
     "output_type": "stream",
     "text": "Model Details\n=============\nH2ORandomForestEstimator:Distributed Random Forest\nModel Key:rf_fit1\n\n\nModel Summary:\n\n\nModelMetricsRegression: drf\n** Reported on train data. **\n\nMSE: 381275.8370752573\nRMSE: 617.4753736589479\nMAE: 307.3862521405956\nRMSLE: 0.10500320810189523\nMean Residual Deviance: 381275.8370752573\n\nScoring History:\n\nVariable Importances:\n"
    },
    {
     "data": {
      "text/html": "<div>\n<style scoped>\n    .dataframe tbody tr th:only-of-type {\n        vertical-align: middle;\n    }\n\n    .dataframe tbody tr th {\n        vertical-align: top;\n    }\n\n    .dataframe thead th {\n        text-align: right;\n    }\n</style>\n<table border=\"1\" class=\"dataframe\">\n  <thead>\n    <tr style=\"text-align: right;\">\n      <th></th>\n      <th></th>\n      <th>number_of_trees</th>\n      <th>number_of_internal_trees</th>\n      <th>model_size_in_bytes</th>\n      <th>min_depth</th>\n      <th>max_depth</th>\n      <th>mean_depth</th>\n      <th>min_leaves</th>\n      <th>max_leaves</th>\n      <th>mean_leaves</th>\n    </tr>\n  </thead>\n  <tbody>\n    <tr>\n      <th>0</th>\n      <td></td>\n      <td>50.0</td>\n      <td>50.0</td>\n      <td>9518263.0</td>\n      <td>20.0</td>\n      <td>20.0</td>\n      <td>20.0</td>\n      <td>14164.0</td>\n      <td>15798.0</td>\n      <td>15175.06</td>\n    </tr>\n  </tbody>\n</table>\n</div>",
      "text/plain": "     number_of_trees  number_of_internal_trees  model_size_in_bytes  \\\n0               50.0                      50.0            9518263.0   \n\n   min_depth  max_depth  mean_depth  min_leaves  max_leaves  mean_leaves  \n0       20.0       20.0        20.0     14164.0     15798.0     15175.06  "
     },
     "metadata": {},
     "output_type": "display_data"
    },
    {
     "data": {
      "text/html": "<div>\n<style scoped>\n    .dataframe tbody tr th:only-of-type {\n        vertical-align: middle;\n    }\n\n    .dataframe tbody tr th {\n        vertical-align: top;\n    }\n\n    .dataframe thead th {\n        text-align: right;\n    }\n</style>\n<table border=\"1\" class=\"dataframe\">\n  <thead>\n    <tr style=\"text-align: right;\">\n      <th></th>\n      <th></th>\n      <th>timestamp</th>\n      <th>duration</th>\n      <th>number_of_trees</th>\n      <th>training_rmse</th>\n      <th>training_mae</th>\n      <th>training_deviance</th>\n    </tr>\n  </thead>\n  <tbody>\n    <tr>\n      <th>0</th>\n      <td></td>\n      <td>2019-12-09 15:10:04</td>\n      <td>0.077 sec</td>\n      <td>0.0</td>\n      <td>NaN</td>\n      <td>NaN</td>\n      <td>NaN</td>\n    </tr>\n    <tr>\n      <th>1</th>\n      <td></td>\n      <td>2019-12-09 15:10:05</td>\n      <td>1.461 sec</td>\n      <td>1.0</td>\n      <td>1043.799599</td>\n      <td>480.283698</td>\n      <td>1.089518e+06</td>\n    </tr>\n    <tr>\n      <th>2</th>\n      <td></td>\n      <td>2019-12-09 15:10:06</td>\n      <td>1.916 sec</td>\n      <td>2.0</td>\n      <td>938.051689</td>\n      <td>447.399976</td>\n      <td>8.799410e+05</td>\n    </tr>\n    <tr>\n      <th>3</th>\n      <td></td>\n      <td>2019-12-09 15:10:06</td>\n      <td>2.199 sec</td>\n      <td>3.0</td>\n      <td>884.106172</td>\n      <td>425.924906</td>\n      <td>7.816437e+05</td>\n    </tr>\n    <tr>\n      <th>4</th>\n      <td></td>\n      <td>2019-12-09 15:10:06</td>\n      <td>2.509 sec</td>\n      <td>4.0</td>\n      <td>865.917696</td>\n      <td>415.910167</td>\n      <td>7.498135e+05</td>\n    </tr>\n    <tr>\n      <th>5</th>\n      <td></td>\n      <td>2019-12-09 15:10:07</td>\n      <td>2.822 sec</td>\n      <td>5.0</td>\n      <td>822.993188</td>\n      <td>399.692856</td>\n      <td>6.773178e+05</td>\n    </tr>\n    <tr>\n      <th>6</th>\n      <td></td>\n      <td>2019-12-09 15:10:07</td>\n      <td>3.098 sec</td>\n      <td>6.0</td>\n      <td>823.070414</td>\n      <td>398.418825</td>\n      <td>6.774449e+05</td>\n    </tr>\n    <tr>\n      <th>7</th>\n      <td></td>\n      <td>2019-12-09 15:10:07</td>\n      <td>3.327 sec</td>\n      <td>7.0</td>\n      <td>803.372916</td>\n      <td>391.678259</td>\n      <td>6.454080e+05</td>\n    </tr>\n    <tr>\n      <th>8</th>\n      <td></td>\n      <td>2019-12-09 15:10:07</td>\n      <td>3.542 sec</td>\n      <td>8.0</td>\n      <td>771.268590</td>\n      <td>380.657853</td>\n      <td>5.948552e+05</td>\n    </tr>\n    <tr>\n      <th>9</th>\n      <td></td>\n      <td>2019-12-09 15:10:07</td>\n      <td>3.747 sec</td>\n      <td>9.0</td>\n      <td>754.843345</td>\n      <td>374.280352</td>\n      <td>5.697885e+05</td>\n    </tr>\n    <tr>\n      <th>10</th>\n      <td></td>\n      <td>2019-12-09 15:10:08</td>\n      <td>3.994 sec</td>\n      <td>10.0</td>\n      <td>740.999099</td>\n      <td>367.000183</td>\n      <td>5.490797e+05</td>\n    </tr>\n    <tr>\n      <th>11</th>\n      <td></td>\n      <td>2019-12-09 15:10:08</td>\n      <td>4.234 sec</td>\n      <td>11.0</td>\n      <td>726.393714</td>\n      <td>360.131334</td>\n      <td>5.276478e+05</td>\n    </tr>\n    <tr>\n      <th>12</th>\n      <td></td>\n      <td>2019-12-09 15:10:12</td>\n      <td>8.398 sec</td>\n      <td>26.0</td>\n      <td>638.673693</td>\n      <td>320.955384</td>\n      <td>4.079041e+05</td>\n    </tr>\n    <tr>\n      <th>13</th>\n      <td></td>\n      <td>2019-12-09 15:10:16</td>\n      <td>12.412 sec</td>\n      <td>44.0</td>\n      <td>621.206825</td>\n      <td>309.933950</td>\n      <td>3.858979e+05</td>\n    </tr>\n    <tr>\n      <th>14</th>\n      <td></td>\n      <td>2019-12-09 15:10:17</td>\n      <td>13.619 sec</td>\n      <td>50.0</td>\n      <td>617.475374</td>\n      <td>307.386252</td>\n      <td>3.812758e+05</td>\n    </tr>\n  </tbody>\n</table>\n</div>",
      "text/plain": "                timestamp    duration  number_of_trees  training_rmse  \\\n0     2019-12-09 15:10:04   0.077 sec              0.0            NaN   \n1     2019-12-09 15:10:05   1.461 sec              1.0    1043.799599   \n2     2019-12-09 15:10:06   1.916 sec              2.0     938.051689   \n3     2019-12-09 15:10:06   2.199 sec              3.0     884.106172   \n4     2019-12-09 15:10:06   2.509 sec              4.0     865.917696   \n5     2019-12-09 15:10:07   2.822 sec              5.0     822.993188   \n6     2019-12-09 15:10:07   3.098 sec              6.0     823.070414   \n7     2019-12-09 15:10:07   3.327 sec              7.0     803.372916   \n8     2019-12-09 15:10:07   3.542 sec              8.0     771.268590   \n9     2019-12-09 15:10:07   3.747 sec              9.0     754.843345   \n10    2019-12-09 15:10:08   3.994 sec             10.0     740.999099   \n11    2019-12-09 15:10:08   4.234 sec             11.0     726.393714   \n12    2019-12-09 15:10:12   8.398 sec             26.0     638.673693   \n13    2019-12-09 15:10:16  12.412 sec             44.0     621.206825   \n14    2019-12-09 15:10:17  13.619 sec             50.0     617.475374   \n\n    training_mae  training_deviance  \n0            NaN                NaN  \n1     480.283698       1.089518e+06  \n2     447.399976       8.799410e+05  \n3     425.924906       7.816437e+05  \n4     415.910167       7.498135e+05  \n5     399.692856       6.773178e+05  \n6     398.418825       6.774449e+05  \n7     391.678259       6.454080e+05  \n8     380.657853       5.948552e+05  \n9     374.280352       5.697885e+05  \n10    367.000183       5.490797e+05  \n11    360.131334       5.276478e+05  \n12    320.955384       4.079041e+05  \n13    309.933950       3.858979e+05  \n14    307.386252       3.812758e+05  "
     },
     "metadata": {},
     "output_type": "display_data"
    },
    {
     "data": {
      "text/html": "<div>\n<style scoped>\n    .dataframe tbody tr th:only-of-type {\n        vertical-align: middle;\n    }\n\n    .dataframe tbody tr th {\n        vertical-align: top;\n    }\n\n    .dataframe thead th {\n        text-align: right;\n    }\n</style>\n<table border=\"1\" class=\"dataframe\">\n  <thead>\n    <tr style=\"text-align: right;\">\n      <th></th>\n      <th>variable</th>\n      <th>relative_importance</th>\n      <th>scaled_importance</th>\n      <th>percentage</th>\n    </tr>\n  </thead>\n  <tbody>\n    <tr>\n      <th>0</th>\n      <td>y</td>\n      <td>7.602560e+12</td>\n      <td>1.000000</td>\n      <td>0.356505</td>\n    </tr>\n    <tr>\n      <th>1</th>\n      <td>carat</td>\n      <td>4.779768e+12</td>\n      <td>0.628705</td>\n      <td>0.224137</td>\n    </tr>\n    <tr>\n      <th>2</th>\n      <td>x</td>\n      <td>4.355203e+12</td>\n      <td>0.572860</td>\n      <td>0.204228</td>\n    </tr>\n    <tr>\n      <th>3</th>\n      <td>z</td>\n      <td>2.938757e+12</td>\n      <td>0.386548</td>\n      <td>0.137807</td>\n    </tr>\n    <tr>\n      <th>4</th>\n      <td>clarity</td>\n      <td>8.878097e+11</td>\n      <td>0.116778</td>\n      <td>0.041632</td>\n    </tr>\n    <tr>\n      <th>5</th>\n      <td>color</td>\n      <td>5.203172e+11</td>\n      <td>0.068440</td>\n      <td>0.024399</td>\n    </tr>\n    <tr>\n      <th>6</th>\n      <td>depth</td>\n      <td>1.010061e+11</td>\n      <td>0.013286</td>\n      <td>0.004736</td>\n    </tr>\n    <tr>\n      <th>7</th>\n      <td>table</td>\n      <td>8.794023e+10</td>\n      <td>0.011567</td>\n      <td>0.004124</td>\n    </tr>\n    <tr>\n      <th>8</th>\n      <td>cut</td>\n      <td>5.187732e+10</td>\n      <td>0.006824</td>\n      <td>0.002433</td>\n    </tr>\n  </tbody>\n</table>\n</div>",
      "text/plain": "  variable  relative_importance  scaled_importance  percentage\n0        y         7.602560e+12           1.000000    0.356505\n1    carat         4.779768e+12           0.628705    0.224137\n2        x         4.355203e+12           0.572860    0.204228\n3        z         2.938757e+12           0.386548    0.137807\n4  clarity         8.878097e+11           0.116778    0.041632\n5    color         5.203172e+11           0.068440    0.024399\n6    depth         1.010061e+11           0.013286    0.004736\n7    table         8.794023e+10           0.011567    0.004124\n8      cut         5.187732e+10           0.006824    0.002433"
     },
     "metadata": {},
     "output_type": "display_data"
    },
    {
     "data": {
      "text/plain": "<bound method ModelBase.model_performance of >"
     },
     "execution_count": 81,
     "metadata": {},
     "output_type": "execute_result"
    }
   ],
   "source": [
    "rf_fit1.model_performance"
   ]
  },
  {
   "cell_type": "code",
   "execution_count": null,
   "metadata": {},
   "outputs": [],
   "source": []
  },
  {
   "cell_type": "code",
   "execution_count": 82,
   "metadata": {},
   "outputs": [
    {
     "name": "stdout",
     "output_type": "stream",
     "text": "AutoML progress: |████████████████████████████████████████████████████████| 100%\n"
    }
   ],
   "source": [
    "from h2o.automl import H2OAutoML\n",
    "aml_ti = H2OAutoML(max_runtime_secs= 180,max_models= 15, seed= 1, nfolds=0)\n",
    "aml_ti.train(x = x_columns, y = y_columns, training_frame = train, validation_frame=test)"
   ]
  },
  {
   "cell_type": "code",
   "execution_count": 83,
   "metadata": {},
   "outputs": [
    {
     "data": {
      "text/html": "<table>\n<thead>\n<tr><th>model_id                        </th><th style=\"text-align: right;\">  mean_residual_deviance</th><th style=\"text-align: right;\">   rmse</th><th style=\"text-align: right;\">   mse</th><th style=\"text-align: right;\">    mae</th><th style=\"text-align: right;\">    rmsle</th></tr>\n</thead>\n<tbody>\n<tr><td>GBM_3_AutoML_20191209_151417    </td><td style=\"text-align: right;\">                  290980</td><td style=\"text-align: right;\">539.426</td><td style=\"text-align: right;\">290980</td><td style=\"text-align: right;\">278.082</td><td style=\"text-align: right;\">0.0987834</td></tr>\n<tr><td>GBM_1_AutoML_20191209_151417    </td><td style=\"text-align: right;\">                  291358</td><td style=\"text-align: right;\">539.776</td><td style=\"text-align: right;\">291358</td><td style=\"text-align: right;\">284.019</td><td style=\"text-align: right;\">0.100834 </td></tr>\n<tr><td>GBM_4_AutoML_20191209_151417    </td><td style=\"text-align: right;\">                  291423</td><td style=\"text-align: right;\">539.836</td><td style=\"text-align: right;\">291423</td><td style=\"text-align: right;\">276.01 </td><td style=\"text-align: right;\">0.092148 </td></tr>\n<tr><td>GBM_2_AutoML_20191209_151417    </td><td style=\"text-align: right;\">                  297531</td><td style=\"text-align: right;\">545.464</td><td style=\"text-align: right;\">297531</td><td style=\"text-align: right;\">283.799</td><td style=\"text-align: right;\">0.101326 </td></tr>\n<tr><td>XGBoost_3_AutoML_20191209_151417</td><td style=\"text-align: right;\">                  302785</td><td style=\"text-align: right;\">550.259</td><td style=\"text-align: right;\">302785</td><td style=\"text-align: right;\">288.095</td><td style=\"text-align: right;\">0.104966 </td></tr>\n<tr><td>XGBoost_1_AutoML_20191209_151417</td><td style=\"text-align: right;\">                  302786</td><td style=\"text-align: right;\">550.26 </td><td style=\"text-align: right;\">302786</td><td style=\"text-align: right;\">274.924</td><td style=\"text-align: right;\">0.0920021</td></tr>\n<tr><td>XGBoost_2_AutoML_20191209_151417</td><td style=\"text-align: right;\">                  310489</td><td style=\"text-align: right;\">557.215</td><td style=\"text-align: right;\">310489</td><td style=\"text-align: right;\">275.503</td><td style=\"text-align: right;\">0.0889387</td></tr>\n<tr><td>GBM_5_AutoML_20191209_151417    </td><td style=\"text-align: right;\">                  331264</td><td style=\"text-align: right;\">575.556</td><td style=\"text-align: right;\">331264</td><td style=\"text-align: right;\">284.644</td><td style=\"text-align: right;\">0.0983653</td></tr>\n<tr><td>XRT_1_AutoML_20191209_151417    </td><td style=\"text-align: right;\">                  355688</td><td style=\"text-align: right;\">596.396</td><td style=\"text-align: right;\">355688</td><td style=\"text-align: right;\">302.069</td><td style=\"text-align: right;\">0.101052 </td></tr>\n<tr><td>DRF_1_AutoML_20191209_151417    </td><td style=\"text-align: right;\">                  363766</td><td style=\"text-align: right;\">603.13 </td><td style=\"text-align: right;\">363766</td><td style=\"text-align: right;\">303.066</td><td style=\"text-align: right;\">0.102634 </td></tr>\n</tbody>\n</table>"
     },
     "metadata": {},
     "output_type": "display_data"
    },
    {
     "data": {
      "text/plain": ""
     },
     "execution_count": 83,
     "metadata": {},
     "output_type": "execute_result"
    }
   ],
   "source": [
    "lb_ti = aml_ti.leaderboard\n",
    "lb_ti"
   ]
  },
  {
   "cell_type": "code",
   "execution_count": null,
   "metadata": {},
   "outputs": [],
   "source": []
  }
 ]
}